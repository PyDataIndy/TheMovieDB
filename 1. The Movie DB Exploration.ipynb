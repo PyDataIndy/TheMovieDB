{
 "cells": [
  {
   "cell_type": "markdown",
   "metadata": {
    "collapsed": true
   },
   "source": [
    "<h1><center> The Movie DB (TMDb) Exploration</center></h1>\n",
    "\n",
    "![Image of TMDb](https://pbs.twimg.com/profile_images/789117657714831361/zGfknUu8.jpg)"
   ]
  },
  {
   "cell_type": "markdown",
   "metadata": {
    "collapsed": false
   },
   "source": [
    "<B>INTRO:</B>\n",
    "\n",
    "For this workshop we will utilize a Python library to access data from TMDb.org.  There is lots of data available through the API as well as a variety of media format for access.  This exercise should help highlight a few examples of how you can explore  the source with the modern Python data stack.\n",
    "<br>\n",
    "<br>\n",
    "<center><a href=\"https://www.themoviedb.org/\"> The Movie DB (TMDb) </a></center>\n",
    "<center><a href=\"https://github.com/celiao/tmdbsimple\"> Python API - TMDb Simple </a></center>\n",
    "<center><a href=\"http://docs.scipy.org/doc/numpy-dev/dev/\"> Numpy Docs </a></center>\n",
    "<center><a href=\"http://pandas.pydata.org/pandas-docs/stable/\"> Pandas Docs </a></center>\n",
    "<center><a href=\"http://matplotlib.org/contents.html#\"> Matplotlib Docs </a></center>\n",
    "<center><a href=\"http://seaborn.pydata.org/\"> Seaborn Docs </a></center>\n"
   ]
  },
  {
   "cell_type": "code",
   "execution_count": 1,
   "metadata": {
    "collapsed": false
   },
   "outputs": [
    {
     "name": "stdout",
     "output_type": "stream",
     "text": [
      "Requirement already satisfied (use --upgrade to upgrade): tmdbsimple in c:\\users\\brian\\anaconda3\\lib\\site-packages\n",
      "Requirement already satisfied (use --upgrade to upgrade): requests==2.5.3 in c:\\users\\brian\\anaconda3\\lib\\site-packages (from tmdbsimple)\n"
     ]
    },
    {
     "name": "stderr",
     "output_type": "stream",
     "text": [
      "You are using pip version 8.1.2, however version 9.0.0 is available.\n",
      "You should consider upgrading via the 'python -m pip install --upgrade pip' command.\n"
     ]
    }
   ],
   "source": [
    "# Lots of choices for Movie API packages: https://pypi.python.org/pypi?%3Aaction=search&term=movie+db&submit=search\n",
    "# We'll sample one listed below:\n",
    "\n",
    "!pip install tmdbsimple\n",
    "\n",
    "# https://www.themoviedb.org/documentation/api/wrappers-libraries"
   ]
  },
  {
   "cell_type": "code",
   "execution_count": 2,
   "metadata": {
    "collapsed": false
   },
   "outputs": [],
   "source": [
    "#Python 3.x\n",
    "import tmdbsimple as tmdb"
   ]
  },
  {
   "cell_type": "code",
   "execution_count": 3,
   "metadata": {
    "collapsed": false
   },
   "outputs": [],
   "source": [
    "#PyDataIndy group API Key\n",
    "tmdb.API_KEY = \"46d0754ab5480c79d42f08746470eda2\""
   ]
  },
  {
   "cell_type": "code",
   "execution_count": 9,
   "metadata": {
    "collapsed": false
   },
   "outputs": [
    {
     "name": "stdout",
     "output_type": "stream",
     "text": [
      "Movie Title & Release Date: Kill Bill: Vol. 1 2003-10-10\n"
     ]
    }
   ],
   "source": [
    "movie = tmdb.Movies(24) #\n",
    "response = movie.info()\n",
    "\n",
    "print (\"Movie Title & Release Date: \" + movie.title, movie.release_date)"
   ]
  },
  {
   "cell_type": "code",
   "execution_count": 10,
   "metadata": {
    "collapsed": false
   },
   "outputs": [
    {
     "data": {
      "text/plain": [
       "30000000"
      ]
     },
     "execution_count": 10,
     "metadata": {},
     "output_type": "execute_result"
    }
   ],
   "source": [
    "movie.budget"
   ]
  },
  {
   "cell_type": "code",
   "execution_count": 11,
   "metadata": {
    "collapsed": false
   },
   "outputs": [],
   "source": [
    "search = tmdb.Search()"
   ]
  },
  {
   "cell_type": "code",
   "execution_count": 15,
   "metadata": {
    "collapsed": false
   },
   "outputs": [
    {
     "name": "stdout",
     "output_type": "stream",
     "text": [
      "Wild 228970 2014-12-05 2.422918\n",
      "Wild 371464 2016-04-14 1.141748\n",
      "Wild 238116 2013-06-26 1.001715\n",
      "Wild Card 265208 2015-01-14 2.632842\n",
      "Wild Wild West 8487 1999-06-29 1.946369\n",
      "Wild 328258 1993-01-01 1.000002\n",
      "Wild 361034  1\n",
      "Wild Target 44147 2010-06-17 2.325438\n",
      "The Wild 9904 2006-03-06 2.170816\n",
      "Wild Hogs 11199 2007-03-02 2.094711\n",
      "Wild Flowers 314571 2014-06-15 1.004436\n",
      "Wild Wild Ham 390082 2013-01-01 1.001573\n",
      "The Wild, Wild Rose 157244 1960-05-09 1.000148\n",
      "Wild Child 13971 2008-01-01 1.951648\n",
      "Wild Bill 86593 2011-10-21 1.92469\n",
      "Wild Wind 274068 1985-11-01 1.1\n",
      "Running Wild 32160 2006-01-01 1.010699\n",
      "Into the Wild 5915 2007-09-11 2.707249\n",
      "Wild Wind 397361 1974-02-28 1.05\n",
      "Wild Horses 324333 2015-06-05 1.636855\n"
     ]
    }
   ],
   "source": [
    "response = search.movie(query='Wild')\n",
    "\n",
    "for s in search.results:\n",
    "    print(s['title'],s['id'],s['release_date'],s['popularity'])"
   ]
  },
  {
   "cell_type": "code",
   "execution_count": null,
   "metadata": {
    "collapsed": false
   },
   "outputs": [],
   "source": []
  },
  {
   "cell_type": "code",
   "execution_count": null,
   "metadata": {
    "collapsed": false
   },
   "outputs": [],
   "source": []
  },
  {
   "cell_type": "code",
   "execution_count": null,
   "metadata": {
    "collapsed": false
   },
   "outputs": [],
   "source": []
  },
  {
   "cell_type": "code",
   "execution_count": null,
   "metadata": {
    "collapsed": false
   },
   "outputs": [],
   "source": []
  },
  {
   "cell_type": "code",
   "execution_count": null,
   "metadata": {
    "collapsed": true
   },
   "outputs": [],
   "source": []
  }
 ],
 "metadata": {
  "anaconda-cloud": {},
  "kernelspec": {
   "display_name": "Python [default]",
   "language": "python",
   "name": "python3"
  },
  "language_info": {
   "codemirror_mode": {
    "name": "ipython",
    "version": 3
   },
   "file_extension": ".py",
   "mimetype": "text/x-python",
   "name": "python",
   "nbconvert_exporter": "python",
   "pygments_lexer": "ipython3",
   "version": "3.5.1"
  }
 },
 "nbformat": 4,
 "nbformat_minor": 0
}
